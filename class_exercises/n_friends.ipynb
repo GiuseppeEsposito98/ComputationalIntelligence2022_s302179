{
 "cells": [
  {
   "cell_type": "code",
   "execution_count": 18,
   "metadata": {},
   "outputs": [],
   "source": [
    "import networkx as nx\n",
    "\n",
    "NUM_FRIENDS = 4\n",
    "# we can see that values like 8 or 10 have not a valid solution because we have 2 distinct subgraphs \n",
    "# and in one of them we have a starting point and in the other one we have the target one\n",
    "\n",
    "from gx_utils import *\n",
    "from itertools import product, combinations\n",
    "import matplotlib.pyplot as plt\n",
    "import networkx as nx\n",
    "from  networkx.drawing.nx_pydot import *\n"
   ]
  },
  {
   "cell_type": "code",
   "execution_count": 19,
   "metadata": {},
   "outputs": [],
   "source": [
    "def node2sets(node):\n",
    "    pizzeria, pub = node.split(\"-\")\n",
    "    return Multiset(pizzeria), Multiset(pub)\n",
    "\n",
    "\n",
    "def sets2node(pizzeria, pub):\n",
    "    return \"\".join(pizzeria) + \"-\" + \"\".join(pub)\n",
    "\n",
    "\n",
    "sspace = nx.Graph()\n",
    "for c, d, b in product(range(NUM_FRIENDS // 2 + 1), range(NUM_FRIENDS // 2 + 1), [True, False]):\n",
    "    pizzeria = (\"*\" if b else \"\") + \"C\" * c + \"D\" * d\n",
    "    pub = (\"*\" if not b else \"\") + \"C\" * (NUM_FRIENDS // 2 - c) + \"D\" * (NUM_FRIENDS // 2 - d)\n",
    "    sspace.add_node(pizzeria + \"-\" + pub)\n",
    "SOURCE = \"*\" + \"C\" * (NUM_FRIENDS // 2) + \"D\" * (NUM_FRIENDS // 2) + \"-\"\n",
    "DESTINATION = \"-*\" + \"C\" * (NUM_FRIENDS // 2) + \"D\" * (NUM_FRIENDS // 2)\n",
    "\n",
    "plt.figure(figsize=(12, 8))\n",
    "nx.draw(sspace, with_labels=True)\n"
   ]
  },
  {
   "cell_type": "markdown",
   "metadata": {},
   "source": [
    "it is interesting to note that when i'm starting everyone in the pizzeria, if i bring one computer scientist in pizzeria the only thing we can do is to go back and if i bring two data scientist to the pub the only thing we can do is to go back"
   ]
  },
  {
   "cell_type": "code",
   "execution_count": 15,
   "metadata": {},
   "outputs": [],
   "source": [
    "def valid_node(node):\n",
    "    pizzeria, pub = node2sets(node)\n",
    "    return valid_location(pizzeria) and valid_location(pub)\n",
    "\n",
    "\n",
    "def valid_location(loc):\n",
    "    if loc.count(\"*\") == 1 and len(loc) == 1:\n",
    "        return False\n",
    "    if 0 < loc.count(\"D\") < loc.count(\"C\"):\n",
    "        return False\n",
    "    return True\n",
    "\n",
    "\n",
    "plt.figure(figsize=(12, 8))\n",
    "nx.draw(\n",
    "    sspace,\n",
    "    with_labels=True,\n",
    "    node_color=[\"lightgreen\" if valid_node(n) else \"lightcoral\" for n in sspace],\n",
    ")"
   ]
  },
  {
   "cell_type": "code",
   "execution_count": null,
   "metadata": {},
   "outputs": [],
   "source": []
  },
  {
   "cell_type": "markdown",
   "metadata": {},
   "source": [
    "we use multiset because in set we cannot have the copy of the same element but we need it since we have more than one computer scientist and data scientist"
   ]
  },
  {
   "cell_type": "code",
   "execution_count": 16,
   "metadata": {},
   "outputs": [],
   "source": [
    "def bike(from_, to):\n",
    "    possible = list()\n",
    "    for b in [\"*C\", \"*CC\", \"*D\", \"*DD\", \"*CD\"]:\n",
    "        bike = Multiset(b)\n",
    "        if bike <= from_:\n",
    "            possible.append(sets2node(from_ - bike, to + bike))\n",
    "    return possible\n",
    "\n",
    "\n",
    "valid_sspace = nx.Graph()\n",
    "\n",
    "for node in sspace.nodes:\n",
    "    if valid_node(node):\n",
    "        valid_sspace.add_node(node)\n",
    "\n",
    "for n1, n2 in [(a, b) for a in valid_sspace.nodes for b in bike(*node2sets(a)) if valid_node(b)]:\n",
    "    valid_sspace.add_edge(n1, n2)\n",
    "\n",
    "plt.figure(figsize=(12, 8))\n",
    "node_color = [\"pink\" if n == SOURCE or n == DESTINATION else \"lightblue\" for n in valid_sspace]\n",
    "nx.draw(valid_sspace, pos=graphviz_layout(valid_sspace, prog=\"neato\"), with_labels=True, node_color=node_color)\n"
   ]
  },
  {
   "cell_type": "code",
   "execution_count": 17,
   "metadata": {},
   "outputs": [
    {
     "ename": "NetworkXNoPath",
     "evalue": "No path between *CCCCCDDDDD- and -*CCCCCDDDDD.",
     "output_type": "error",
     "traceback": [
      "\u001b[0;31m---------------------------------------------------------------------------\u001b[0m",
      "\u001b[0;31mNetworkXNoPath\u001b[0m                            Traceback (most recent call last)",
      "\u001b[1;32mUntitled-1.ipynb Cell 7\u001b[0m in \u001b[0;36m<cell line: 1>\u001b[0;34m()\u001b[0m\n\u001b[0;32m----> <a href='vscode-notebook-cell:Untitled-1.ipynb?jupyter-notebook#W6sdW50aXRsZWQ%3D?line=0'>1</a>\u001b[0m nx\u001b[39m.\u001b[39;49mshortest_path(valid_sspace, SOURCE, DESTINATION)\n",
      "File \u001b[0;32m~/opt/anaconda3/envs/prj_quarto/lib/python3.9/site-packages/networkx/algorithms/shortest_paths/generic.py:165\u001b[0m, in \u001b[0;36mshortest_path\u001b[0;34m(G, source, target, weight, method)\u001b[0m\n\u001b[1;32m    162\u001b[0m \u001b[39melse\u001b[39;00m:\n\u001b[1;32m    163\u001b[0m     \u001b[39m# Find shortest source-target path.\u001b[39;00m\n\u001b[1;32m    164\u001b[0m     \u001b[39mif\u001b[39;00m method \u001b[39m==\u001b[39m \u001b[39m\"\u001b[39m\u001b[39munweighted\u001b[39m\u001b[39m\"\u001b[39m:\n\u001b[0;32m--> 165\u001b[0m         paths \u001b[39m=\u001b[39m nx\u001b[39m.\u001b[39;49mbidirectional_shortest_path(G, source, target)\n\u001b[1;32m    166\u001b[0m     \u001b[39melif\u001b[39;00m method \u001b[39m==\u001b[39m \u001b[39m\"\u001b[39m\u001b[39mdijkstra\u001b[39m\u001b[39m\"\u001b[39m:\n\u001b[1;32m    167\u001b[0m         _, paths \u001b[39m=\u001b[39m nx\u001b[39m.\u001b[39mbidirectional_dijkstra(G, source, target, weight)\n",
      "File \u001b[0;32m~/opt/anaconda3/envs/prj_quarto/lib/python3.9/site-packages/networkx/algorithms/shortest_paths/unweighted.py:224\u001b[0m, in \u001b[0;36mbidirectional_shortest_path\u001b[0;34m(G, source, target)\u001b[0m\n\u001b[1;32m    221\u001b[0m     \u001b[39mraise\u001b[39;00m nx\u001b[39m.\u001b[39mNodeNotFound(msg)\n\u001b[1;32m    223\u001b[0m \u001b[39m# call helper to do the real work\u001b[39;00m\n\u001b[0;32m--> 224\u001b[0m results \u001b[39m=\u001b[39m _bidirectional_pred_succ(G, source, target)\n\u001b[1;32m    225\u001b[0m pred, succ, w \u001b[39m=\u001b[39m results\n\u001b[1;32m    227\u001b[0m \u001b[39m# build path from pred+w+succ\u001b[39;00m\n",
      "File \u001b[0;32m~/opt/anaconda3/envs/prj_quarto/lib/python3.9/site-packages/networkx/algorithms/shortest_paths/unweighted.py:292\u001b[0m, in \u001b[0;36m_bidirectional_pred_succ\u001b[0;34m(G, source, target)\u001b[0m\n\u001b[1;32m    289\u001b[0m                 \u001b[39mif\u001b[39;00m w \u001b[39min\u001b[39;00m pred:  \u001b[39m# found path\u001b[39;00m\n\u001b[1;32m    290\u001b[0m                     \u001b[39mreturn\u001b[39;00m pred, succ, w\n\u001b[0;32m--> 292\u001b[0m \u001b[39mraise\u001b[39;00m nx\u001b[39m.\u001b[39mNetworkXNoPath(\u001b[39mf\u001b[39m\u001b[39m\"\u001b[39m\u001b[39mNo path between \u001b[39m\u001b[39m{\u001b[39;00msource\u001b[39m}\u001b[39;00m\u001b[39m and \u001b[39m\u001b[39m{\u001b[39;00mtarget\u001b[39m}\u001b[39;00m\u001b[39m.\u001b[39m\u001b[39m\"\u001b[39m)\n",
      "\u001b[0;31mNetworkXNoPath\u001b[0m: No path between *CCCCCDDDDD- and -*CCCCCDDDDD."
     ]
    }
   ],
   "source": [
    "nx.shortest_path(valid_sspace, SOURCE, DESTINATION)"
   ]
  },
  {
   "cell_type": "code",
   "execution_count": null,
   "metadata": {},
   "outputs": [],
   "source": []
  },
  {
   "cell_type": "code",
   "execution_count": null,
   "metadata": {},
   "outputs": [],
   "source": []
  },
  {
   "cell_type": "code",
   "execution_count": null,
   "metadata": {},
   "outputs": [],
   "source": []
  }
 ],
 "metadata": {
  "kernelspec": {
   "display_name": "Python 3.9.11 ('prj_quarto')",
   "language": "python",
   "name": "python3"
  },
  "language_info": {
   "codemirror_mode": {
    "name": "ipython",
    "version": 3
   },
   "file_extension": ".py",
   "mimetype": "text/x-python",
   "name": "python",
   "nbconvert_exporter": "python",
   "pygments_lexer": "ipython3",
   "version": "3.9.11"
  },
  "orig_nbformat": 4,
  "vscode": {
   "interpreter": {
    "hash": "a2e3e25d65b539032d7ede074f3d1877bf98d0b58bd5ff9d58e4c13a4105d93c"
   }
  }
 },
 "nbformat": 4,
 "nbformat_minor": 2
}
